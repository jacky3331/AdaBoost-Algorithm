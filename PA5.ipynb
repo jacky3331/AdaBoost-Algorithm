{
 "cells": [
  {
   "cell_type": "code",
   "execution_count": 1,
   "metadata": {},
   "outputs": [],
   "source": [
    "import numpy as np"
   ]
  },
  {
   "cell_type": "code",
   "execution_count": 2,
   "metadata": {},
   "outputs": [],
   "source": [
    "def extract_data(file):\n",
    "    data = []\n",
    "    with open(file) as f:\n",
    "        for lines in f.readlines():\n",
    "            data.append(np.array([int(i) for i in lines.strip().split(\" \")]))\n",
    "                        \n",
    "    return data"
   ]
  },
  {
   "cell_type": "code",
   "execution_count": 3,
   "metadata": {},
   "outputs": [],
   "source": [
    "def extract_dict(file):\n",
    "    data = []\n",
    "    with open(file) as f:\n",
    "        for lines in f.readlines():\n",
    "            data.append(lines.strip())\n",
    "    return data"
   ]
  },
  {
   "cell_type": "code",
   "execution_count": 4,
   "metadata": {},
   "outputs": [],
   "source": [
    "def classifier(value):\n",
    "    if (value == 1):\n",
    "        return 1\n",
    "    else:\n",
    "        return -1"
   ]
  },
  {
   "cell_type": "code",
   "execution_count": 5,
   "metadata": {},
   "outputs": [],
   "source": [
    "def negative_classifier(value):\n",
    "    if (value == 0):\n",
    "        return 1\n",
    "    else:\n",
    "        return -1"
   ]
  },
  {
   "cell_type": "code",
   "execution_count": 6,
   "metadata": {},
   "outputs": [],
   "source": [
    "def calculate_error(feature, dataset):\n",
    "    error_output = 0\n",
    "    \n",
    "    for i in range(len(dataset)):\n",
    "        if (classifier(dataset[i][feature]) != dataset[i][-1]):\n",
    "            indicator = 1\n",
    "        else:\n",
    "            indicator = 0\n",
    "        \n",
    "        error_output += weights[i]*indicator\n",
    "    \n",
    "    return error_output\n",
    "    "
   ]
  },
  {
   "cell_type": "code",
   "execution_count": 7,
   "metadata": {},
   "outputs": [],
   "source": [
    "def calculate_alpha(error):\n",
    "    return (1/2)*np.log((1-error)/error)"
   ]
  },
  {
   "cell_type": "code",
   "execution_count": 8,
   "metadata": {},
   "outputs": [],
   "source": [
    "def calculate_label(features, boost_classifiers):\n",
    "    summation = 0\n",
    "    for boost in boost_classifiers:\n",
    "        word = boost[0]\n",
    "        alpha = boost[2]\n",
    "        \n",
    "        if boost[1] == 1:\n",
    "            if features[word] == 1:\n",
    "                h = 1\n",
    "            else:\n",
    "                h = -1\n",
    "        else:\n",
    "            if features[word] == 0:\n",
    "                h = 1\n",
    "            else:\n",
    "                h = -1\n",
    "           \n",
    "        summation += alpha * h\n",
    "\n",
    "    return np.sign(summation)"
   ]
  },
  {
   "cell_type": "code",
   "execution_count": 9,
   "metadata": {},
   "outputs": [],
   "source": [
    "# Extracting the data\n",
    "train = extract_data(\"pa5train.txt\")\n",
    "test = extract_data(\"pa5test.txt\")"
   ]
  },
  {
   "cell_type": "code",
   "execution_count": 10,
   "metadata": {},
   "outputs": [],
   "source": [
    "# Extracting the dictionary\n",
    "vocab = extract_dict(\"pa5dictionary.txt\")"
   ]
  },
  {
   "cell_type": "code",
   "execution_count": 11,
   "metadata": {},
   "outputs": [
    {
     "name": "stdout",
     "output_type": "stream",
     "text": [
      "Training Error: 0.051111111111111114\n",
      "Test Error: 0.03875968992248062\n"
     ]
    }
   ],
   "source": [
    "# Spam Classification w/ 4 rounds of boosting\n",
    "boost_rounds = 4\n",
    "boost_classifier = []\n",
    "weights = np.zeros(len(train)) + 1/len(train)\n",
    "\n",
    "for t in range(boost_rounds):\n",
    "    best_error = 100\n",
    "    best_feature = -1\n",
    "    label = 0\n",
    "    for feature in range(len(vocab)):\n",
    "        error = calculate_error(feature, train)\n",
    "        \n",
    "        if (error < best_error):\n",
    "            best_feature = feature\n",
    "            best_error = error\n",
    "            label = 1\n",
    "        elif (1 - error < best_error):\n",
    "            best_feature = feature\n",
    "            best_error = 1 - error\n",
    "            label = -1\n",
    "    \n",
    "    alpha = (1/2)*np.log((1-best_error)/best_error)\n",
    "    \n",
    "    for i in range(len(train)):\n",
    "        y = train[i][-1]\n",
    "        h = 0\n",
    "        \n",
    "        if (label == 1):\n",
    "            h = classifier(train[i][best_feature])\n",
    "        else:\n",
    "            h = negative_classifier(train[i][best_feature])\n",
    "        \n",
    "        weights[i] = weights[i]*np.exp(-alpha*y*h)\n",
    "    \n",
    "    z = np.sum(weights)\n",
    "    weights = weights/z #\n",
    "    \n",
    "    boost_classifier.append([best_feature, label, alpha])\n",
    "\n",
    "\n",
    "incorrect = 0\n",
    "total = len(train)\n",
    "for vector in train:\n",
    "    h = calculate_label(vector[:-1], boost_classifier)\n",
    "        \n",
    "    if (h != vector[-1]):\n",
    "        incorrect += 1\n",
    "\n",
    "training_error = incorrect/total\n",
    "print(\"Training Error: \" + str(training_error))\n",
    "\n",
    "incorrect = 0\n",
    "total = len(test)\n",
    "for vector in test:\n",
    "    h = calculate_label(vector[:-1], boost_classifier)\n",
    "        \n",
    "    if (h != vector[-1]):\n",
    "        incorrect += 1\n",
    "\n",
    "test_error = incorrect/total\n",
    "print(\"Test Error: \" + str(test_error))"
   ]
  },
  {
   "cell_type": "code",
   "execution_count": 12,
   "metadata": {
    "scrolled": true
   },
   "outputs": [
    {
     "name": "stdout",
     "output_type": "stream",
     "text": [
      "Number of boost rounds: 3\n",
      "Training Error: 0.06444444444444444\n",
      "Test Error: 0.03875968992248062\n",
      "\n",
      "Number of boost rounds: 4\n",
      "Training Error: 0.051111111111111114\n",
      "Test Error: 0.03875968992248062\n",
      "\n",
      "Number of boost rounds: 7\n",
      "Training Error: 0.028888888888888888\n",
      "Test Error: 0.031007751937984496\n",
      "\n",
      "Number of boost rounds: 10\n",
      "Training Error: 0.015555555555555555\n",
      "Test Error: 0.03875968992248062\n",
      "\n",
      "Number of boost rounds: 15\n",
      "Training Error: 0.0\n",
      "Test Error: 0.023255813953488372\n",
      "\n",
      "Number of boost rounds: 20\n",
      "Training Error: 0.0\n",
      "Test Error: 0.023255813953488372\n",
      "\n"
     ]
    }
   ],
   "source": [
    "# Question 1:\n",
    "boost_rounds = [3,4,7,10,15,20]\n",
    "\n",
    "for rounds in boost_rounds:\n",
    "    boost_classifier = []\n",
    "    weights = np.zeros(len(train)) + 1/len(train)\n",
    "    \n",
    "    for t in range(rounds):\n",
    "        best_error = 100\n",
    "        best_feature = -1\n",
    "        label = 0\n",
    "        for feature in range(len(vocab)):\n",
    "            error = calculate_error(feature, train)\n",
    "\n",
    "            if (error < best_error):\n",
    "                best_feature = feature\n",
    "                best_error = error\n",
    "                label = 1\n",
    "            elif (1 - error < best_error):\n",
    "                best_feature = feature\n",
    "                best_error = 1 - error\n",
    "                label = -1\n",
    "\n",
    "        alpha = (1/2)*np.log((1-best_error)/best_error)\n",
    "\n",
    "        for i in range(len(train)):\n",
    "            y = train[i][-1]\n",
    "            h = 0\n",
    "\n",
    "            if (label == 1):\n",
    "                h = classifier(train[i][best_feature])\n",
    "            else:\n",
    "                h = negative_classifier(train[i][best_feature])\n",
    "\n",
    "            weights[i] = weights[i]*np.exp(-alpha*y*h)\n",
    "\n",
    "        z = np.sum(weights)\n",
    "        weights = weights/z #\n",
    "\n",
    "        boost_classifier.append([best_feature, label, alpha])\n",
    "\n",
    "\n",
    "    incorrect = 0\n",
    "    total = len(train)\n",
    "    for vector in train:\n",
    "        h = calculate_label(vector[:-1], boost_classifier)\n",
    "\n",
    "        if (h != vector[-1]):\n",
    "            incorrect += 1\n",
    "\n",
    "    training_error = incorrect/total\n",
    "    print(\"Number of boost rounds: \" + str(rounds))\n",
    "    print(\"Training Error: \" + str(training_error))\n",
    "\n",
    "    incorrect = 0\n",
    "    total = len(test)\n",
    "    for vector in test:\n",
    "        h = calculate_label(vector[:-1], boost_classifier)\n",
    "\n",
    "        if (h != vector[-1]):\n",
    "            incorrect += 1\n",
    "\n",
    "    test_error = incorrect/total\n",
    "    print(\"Test Error: \" + str(test_error))\n",
    "    print(\"\")"
   ]
  },
  {
   "cell_type": "code",
   "execution_count": 13,
   "metadata": {},
   "outputs": [
    {
     "name": "stdout",
     "output_type": "stream",
     "text": [
      "Training Error: 0.015555555555555555\n",
      "Test Error: 0.03875968992248062\n",
      "\n"
     ]
    }
   ],
   "source": [
    "# Question 2:\n",
    "boost_rounds = 10\n",
    "boost_classifier = []\n",
    "weights = np.zeros(len(train)) + 1/len(train)\n",
    "\n",
    "for t in range(boost_rounds):\n",
    "    best_error = 100\n",
    "    best_feature = -1\n",
    "    label = 0\n",
    "    for feature in range(len(vocab)):\n",
    "        error = calculate_error(feature, train)\n",
    "        \n",
    "        if (error < best_error):\n",
    "            best_feature = feature\n",
    "            best_error = error\n",
    "            label = 1\n",
    "        elif (1 - error < best_error):\n",
    "            best_feature = feature\n",
    "            best_error = 1 - error\n",
    "            label = -1\n",
    "    \n",
    "    alpha = (1/2)*np.log((1-best_error)/best_error)\n",
    "    \n",
    "    for i in range(len(train)):\n",
    "        y = train[i][-1]\n",
    "        h = 0\n",
    "        \n",
    "        if (label == 1):\n",
    "            h = classifier(train[i][best_feature])\n",
    "        else:\n",
    "            h = negative_classifier(train[i][best_feature])\n",
    "        \n",
    "        weights[i] = weights[i]*np.exp(-alpha*y*h)\n",
    "    \n",
    "    z = np.sum(weights)\n",
    "    weights = weights/z #\n",
    "    \n",
    "    boost_classifier.append([best_feature, label, alpha])\n",
    "\n",
    "\n",
    "incorrect = 0\n",
    "total = len(train)\n",
    "for vector in train:\n",
    "    h = calculate_label(vector[:-1], boost_classifier)\n",
    "        \n",
    "    if (h != vector[-1]):\n",
    "        incorrect += 1\n",
    "\n",
    "training_error = incorrect/total\n",
    "print(\"Training Error: \" + str(training_error))\n",
    "\n",
    "incorrect = 0\n",
    "total = len(test)\n",
    "for vector in test:\n",
    "    h = calculate_label(vector[:-1], boost_classifier)\n",
    "        \n",
    "    if (h != vector[-1]):\n",
    "        incorrect += 1\n",
    "\n",
    "test_error = incorrect/total\n",
    "print(\"Test Error: \" + str(test_error))\n",
    "print(\"\")\n"
   ]
  },
  {
   "cell_type": "code",
   "execution_count": 14,
   "metadata": {},
   "outputs": [
    {
     "data": {
      "text/plain": [
       "['remove',\n",
       " 'language',\n",
       " 'free',\n",
       " 'university',\n",
       " 'money',\n",
       " 'linguistic',\n",
       " 'click',\n",
       " 'fax',\n",
       " 'want',\n",
       " 'de']"
      ]
     },
     "execution_count": 14,
     "metadata": {},
     "output_type": "execute_result"
    }
   ],
   "source": [
    "# Question 2:\n",
    "[vocab[j] for j in [i[0] for i in boost_classifier]]"
   ]
  },
  {
   "cell_type": "code",
   "execution_count": null,
   "metadata": {},
   "outputs": [],
   "source": []
  }
 ],
 "metadata": {
  "kernelspec": {
   "display_name": "Python 3",
   "language": "python",
   "name": "python3"
  },
  "language_info": {
   "codemirror_mode": {
    "name": "ipython",
    "version": 3
   },
   "file_extension": ".py",
   "mimetype": "text/x-python",
   "name": "python",
   "nbconvert_exporter": "python",
   "pygments_lexer": "ipython3",
   "version": "3.7.6"
  }
 },
 "nbformat": 4,
 "nbformat_minor": 4
}
